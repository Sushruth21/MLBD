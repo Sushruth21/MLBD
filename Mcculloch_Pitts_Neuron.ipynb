{
  "nbformat": 4,
  "nbformat_minor": 0,
  "metadata": {
    "colab": {
      "provenance": []
    },
    "kernelspec": {
      "name": "python3",
      "display_name": "Python 3"
    },
    "language_info": {
      "name": "python"
    }
  },
  "cells": [
    {
      "cell_type": "markdown",
      "source": [
        "McCulloch-Pitts Neuron Model:\n",
        "- **Definition:** A simplified model of a biological neuron proposed by Warren McCulloch and Walter Pitts in 1943.\n",
        "- **Purpose:** It serves as a mathematical representation of a binary threshold logic element.\n",
        "- **Components:**\n",
        "  - **Inputs:** Binary values (\\(0\\) or \\(1\\)).\n",
        "  - **Weights:** Assigned to inputs, influencing their impact on the output.\n",
        "  - **Threshold:** A predefined threshold or activation level.\n",
        "- **Operation:**\n",
        "  - The neuron calculates a weighted sum of its inputs.\n",
        "  - If the weighted sum is equal to or exceeds the threshold, the neuron fires and produces an output of \\(1\\); otherwise, it outputs \\(0\\).\n",
        "- **Mathematical Formulation:**\n",
        "  The weighted sum (yin) is calculated as yin = ∑ Xi * Wi\n",
        "  Output y is 1 if yin >= Threshold and 0 otherwise\n",
        "- **Threshold Condition:** Yin >= Threshold\n",
        "- **Applications:**\n",
        "  - Basis for early artificial neural network models.\n",
        "  - Used in constructing logical gates and simple computational units.\n"
      ],
      "metadata": {
        "id": "Nl93nA86c9Zx"
      }
    },
    {
      "cell_type": "markdown",
      "source": [
        "AND GATE\n"
      ],
      "metadata": {
        "id": "ASTuZOf6Ld1Z"
      }
    },
    {
      "cell_type": "code",
      "execution_count": 64,
      "metadata": {
        "id": "TNRVc38fJh5j"
      },
      "outputs": [],
      "source": [
        "import numpy as np\n",
        "import pandas as pd\n",
        "\n",
        "def mcculloch_pitts_neuron(inputs, weights, threshold):\n",
        "    weighted_sum = np.dot(inputs, weights)\n",
        "    output = 1 if weighted_sum >= threshold else 0\n",
        "\n",
        "    return output"
      ]
    },
    {
      "cell_type": "code",
      "source": [
        "def and_gate(input1, input2):\n",
        "    inputs = [input1, input2]\n",
        "    weights = [1, 1]\n",
        "    threshold = 2\n",
        "    yin = mcculloch_pitts_neuron(inputs, weights, threshold)\n",
        "    y = yin\n",
        "    return pd.Series([input1, input2, yin, y], index=['x1', 'x2', 'yin', 'y'])"
      ],
      "metadata": {
        "id": "GzVvMVHbLKGI"
      },
      "execution_count": 65,
      "outputs": []
    },
    {
      "cell_type": "code",
      "source": [
        "table_and_gate = pd.DataFrame(columns=['x1', 'x2', 'yin', 'y'])\n",
        "for input1 in [0, 1]:\n",
        "    for input2 in [0, 1]:\n",
        "        table_and_gate = table_and_gate.append(and_gate(input1, input2), ignore_index=True)"
      ],
      "metadata": {
        "colab": {
          "base_uri": "https://localhost:8080/"
        },
        "id": "WsGSZ6U5ZaNX",
        "outputId": "32ee8f3d-60b2-467b-9479-b43f269b3dcb"
      },
      "execution_count": 46,
      "outputs": [
        {
          "output_type": "stream",
          "name": "stderr",
          "text": [
            "<ipython-input-46-876a1038c8bf>:4: FutureWarning: The frame.append method is deprecated and will be removed from pandas in a future version. Use pandas.concat instead.\n",
            "  table_and_gate = table_and_gate.append(and_gate(input1, input2), ignore_index=True)\n",
            "<ipython-input-46-876a1038c8bf>:4: FutureWarning: The frame.append method is deprecated and will be removed from pandas in a future version. Use pandas.concat instead.\n",
            "  table_and_gate = table_and_gate.append(and_gate(input1, input2), ignore_index=True)\n",
            "<ipython-input-46-876a1038c8bf>:4: FutureWarning: The frame.append method is deprecated and will be removed from pandas in a future version. Use pandas.concat instead.\n",
            "  table_and_gate = table_and_gate.append(and_gate(input1, input2), ignore_index=True)\n",
            "<ipython-input-46-876a1038c8bf>:4: FutureWarning: The frame.append method is deprecated and will be removed from pandas in a future version. Use pandas.concat instead.\n",
            "  table_and_gate = table_and_gate.append(and_gate(input1, input2), ignore_index=True)\n"
          ]
        }
      ]
    },
    {
      "cell_type": "code",
      "source": [
        "print(\"Table for AND Gate:\")\n",
        "print(table_and_gate)"
      ],
      "metadata": {
        "colab": {
          "base_uri": "https://localhost:8080/"
        },
        "id": "wH-PGe5JZbIk",
        "outputId": "0374603a-82fd-4504-d9c2-1145aa06b86d"
      },
      "execution_count": 47,
      "outputs": [
        {
          "output_type": "stream",
          "name": "stdout",
          "text": [
            "Table for AND Gate:\n",
            "  x1 x2 yin  y\n",
            "0  0  0   0  0\n",
            "1  0  1   0  0\n",
            "2  1  0   0  0\n",
            "3  1  1   1  1\n"
          ]
        }
      ]
    },
    {
      "cell_type": "markdown",
      "source": [
        "OR GATE"
      ],
      "metadata": {
        "id": "qomROXFeLneu"
      }
    },
    {
      "cell_type": "code",
      "source": [
        "def or_gate(input1, input2):\n",
        "    inputs = [input1, input2]\n",
        "    weights = [1, 1]\n",
        "    threshold = 1\n",
        "    yin = mcculloch_pitts_neuron(inputs, weights, threshold)\n",
        "    y = yin\n",
        "    return pd.Series([input1, input2, yin, y], index=['x1', 'x2', 'yin', 'y'])"
      ],
      "metadata": {
        "id": "pkm0UG3kL3VM"
      },
      "execution_count": 48,
      "outputs": []
    },
    {
      "cell_type": "code",
      "source": [
        "table_or_gate = pd.DataFrame(columns=['x1', 'x2', 'yin', 'y'])\n",
        "for input1 in [0, 1]:\n",
        "    for input2 in [0, 1]:\n",
        "        table_or_gate = table_or_gate.append(or_gate(input1, input2), ignore_index=True)"
      ],
      "metadata": {
        "colab": {
          "base_uri": "https://localhost:8080/"
        },
        "id": "zfU6U2r4ZsKR",
        "outputId": "cbc3db40-2737-4d6a-cc20-8c83c956872c"
      },
      "execution_count": 49,
      "outputs": [
        {
          "output_type": "stream",
          "name": "stderr",
          "text": [
            "<ipython-input-49-b23278ebbcda>:4: FutureWarning: The frame.append method is deprecated and will be removed from pandas in a future version. Use pandas.concat instead.\n",
            "  table_or_gate = table_or_gate.append(or_gate(input1, input2), ignore_index=True)\n",
            "<ipython-input-49-b23278ebbcda>:4: FutureWarning: The frame.append method is deprecated and will be removed from pandas in a future version. Use pandas.concat instead.\n",
            "  table_or_gate = table_or_gate.append(or_gate(input1, input2), ignore_index=True)\n",
            "<ipython-input-49-b23278ebbcda>:4: FutureWarning: The frame.append method is deprecated and will be removed from pandas in a future version. Use pandas.concat instead.\n",
            "  table_or_gate = table_or_gate.append(or_gate(input1, input2), ignore_index=True)\n",
            "<ipython-input-49-b23278ebbcda>:4: FutureWarning: The frame.append method is deprecated and will be removed from pandas in a future version. Use pandas.concat instead.\n",
            "  table_or_gate = table_or_gate.append(or_gate(input1, input2), ignore_index=True)\n"
          ]
        }
      ]
    },
    {
      "cell_type": "code",
      "source": [
        "print(\"Table for OR Gate:\")\n",
        "print(table_or_gate)"
      ],
      "metadata": {
        "colab": {
          "base_uri": "https://localhost:8080/"
        },
        "id": "4XD_vYg7Z1Q7",
        "outputId": "1ccd84f2-54e8-44e4-b3c6-257be12f74c0"
      },
      "execution_count": 50,
      "outputs": [
        {
          "output_type": "stream",
          "name": "stdout",
          "text": [
            "Table for OR Gate:\n",
            "  x1 x2 yin  y\n",
            "0  0  0   0  0\n",
            "1  0  1   1  1\n",
            "2  1  0   1  1\n",
            "3  1  1   1  1\n"
          ]
        }
      ]
    },
    {
      "cell_type": "markdown",
      "source": [
        "NOR GATE"
      ],
      "metadata": {
        "id": "d-_anF3IMVn-"
      }
    },
    {
      "cell_type": "code",
      "source": [
        "def nor_gate(input1, input2):\n",
        "    inputs = [input1, input2]\n",
        "    weights = [-1, -1]\n",
        "    threshold = 0\n",
        "    yin = mcculloch_pitts_neuron(inputs, weights, threshold)\n",
        "    y = 1 - yin\n",
        "    return pd.Series([input1, input2, yin, y], index=['x1', 'x2', 'yin', 'y'])"
      ],
      "metadata": {
        "id": "tTlOBRGwMLPx"
      },
      "execution_count": 51,
      "outputs": []
    },
    {
      "cell_type": "code",
      "source": [
        "table_nor_gate = pd.DataFrame(columns=['x1', 'x2', 'yin', 'y'])\n",
        "for input1 in [0, 1]:\n",
        "    for input2 in [0, 1]:\n",
        "        table_nor_gate = table_nor_gate.append(nor_gate(input1, input2), ignore_index=True)"
      ],
      "metadata": {
        "colab": {
          "base_uri": "https://localhost:8080/"
        },
        "id": "6thS47v5aB2u",
        "outputId": "17a7d88c-dadf-4493-eef9-33cf1817da51"
      },
      "execution_count": 52,
      "outputs": [
        {
          "output_type": "stream",
          "name": "stderr",
          "text": [
            "<ipython-input-52-a8b4a0a3f44a>:4: FutureWarning: The frame.append method is deprecated and will be removed from pandas in a future version. Use pandas.concat instead.\n",
            "  table_nor_gate = table_nor_gate.append(nor_gate(input1, input2), ignore_index=True)\n",
            "<ipython-input-52-a8b4a0a3f44a>:4: FutureWarning: The frame.append method is deprecated and will be removed from pandas in a future version. Use pandas.concat instead.\n",
            "  table_nor_gate = table_nor_gate.append(nor_gate(input1, input2), ignore_index=True)\n",
            "<ipython-input-52-a8b4a0a3f44a>:4: FutureWarning: The frame.append method is deprecated and will be removed from pandas in a future version. Use pandas.concat instead.\n",
            "  table_nor_gate = table_nor_gate.append(nor_gate(input1, input2), ignore_index=True)\n",
            "<ipython-input-52-a8b4a0a3f44a>:4: FutureWarning: The frame.append method is deprecated and will be removed from pandas in a future version. Use pandas.concat instead.\n",
            "  table_nor_gate = table_nor_gate.append(nor_gate(input1, input2), ignore_index=True)\n"
          ]
        }
      ]
    },
    {
      "cell_type": "code",
      "source": [
        "print(\"Table for NOR Gate:\")\n",
        "print(table_nor_gate)"
      ],
      "metadata": {
        "colab": {
          "base_uri": "https://localhost:8080/"
        },
        "id": "I0r8LBsxaG69",
        "outputId": "8527aab3-ae0b-4233-ef39-5d6e52151529"
      },
      "execution_count": 53,
      "outputs": [
        {
          "output_type": "stream",
          "name": "stdout",
          "text": [
            "Table for NOR Gate:\n",
            "  x1 x2 yin  y\n",
            "0  0  0   1  0\n",
            "1  0  1   0  1\n",
            "2  1  0   0  1\n",
            "3  1  1   0  1\n"
          ]
        }
      ]
    },
    {
      "cell_type": "markdown",
      "source": [
        "NAND GATE"
      ],
      "metadata": {
        "id": "gOJ5FZpSRIXP"
      }
    },
    {
      "cell_type": "code",
      "source": [
        "def nand_gate(input1, input2):\n",
        "    inputs = [input1, input2]\n",
        "    weights = [-1, -1]\n",
        "    threshold = -1.5\n",
        "    yin = mcculloch_pitts_neuron(inputs, weights, threshold)\n",
        "    y = 1 - yin\n",
        "    return pd.Series([input1, input2, yin, y], index=['x1', 'x2', 'yin', 'y'])"
      ],
      "metadata": {
        "id": "Bp_XHn71NYQd"
      },
      "execution_count": 54,
      "outputs": []
    },
    {
      "cell_type": "code",
      "source": [
        "table_nand_gate = pd.DataFrame(columns=['x1', 'x2', 'yin', 'y'])\n",
        "for input1 in [0, 1]:\n",
        "    for input2 in [0, 1]:\n",
        "        table_nand_gate = table_nand_gate.append(nand_gate(input1, input2), ignore_index=True)"
      ],
      "metadata": {
        "colab": {
          "base_uri": "https://localhost:8080/"
        },
        "id": "-KXGBYUgaSfw",
        "outputId": "bd6f8abf-c6eb-469a-f1f0-de19d2d9782b"
      },
      "execution_count": 55,
      "outputs": [
        {
          "output_type": "stream",
          "name": "stderr",
          "text": [
            "<ipython-input-55-abc97d4e7c6e>:4: FutureWarning: The frame.append method is deprecated and will be removed from pandas in a future version. Use pandas.concat instead.\n",
            "  table_nand_gate = table_nand_gate.append(nand_gate(input1, input2), ignore_index=True)\n",
            "<ipython-input-55-abc97d4e7c6e>:4: FutureWarning: The frame.append method is deprecated and will be removed from pandas in a future version. Use pandas.concat instead.\n",
            "  table_nand_gate = table_nand_gate.append(nand_gate(input1, input2), ignore_index=True)\n",
            "<ipython-input-55-abc97d4e7c6e>:4: FutureWarning: The frame.append method is deprecated and will be removed from pandas in a future version. Use pandas.concat instead.\n",
            "  table_nand_gate = table_nand_gate.append(nand_gate(input1, input2), ignore_index=True)\n",
            "<ipython-input-55-abc97d4e7c6e>:4: FutureWarning: The frame.append method is deprecated and will be removed from pandas in a future version. Use pandas.concat instead.\n",
            "  table_nand_gate = table_nand_gate.append(nand_gate(input1, input2), ignore_index=True)\n"
          ]
        }
      ]
    },
    {
      "cell_type": "code",
      "source": [
        "print(\"Table for NAND Gate:\")\n",
        "print(table_nand_gate)"
      ],
      "metadata": {
        "colab": {
          "base_uri": "https://localhost:8080/"
        },
        "id": "0y0oKcUtaYG0",
        "outputId": "f37bdc34-7f38-4966-f84d-8701ed4d1e74"
      },
      "execution_count": 56,
      "outputs": [
        {
          "output_type": "stream",
          "name": "stdout",
          "text": [
            "Table for NAND Gate:\n",
            "  x1 x2 yin  y\n",
            "0  0  0   1  0\n",
            "1  0  1   1  0\n",
            "2  1  0   1  0\n",
            "3  1  1   0  1\n"
          ]
        }
      ]
    },
    {
      "cell_type": "markdown",
      "source": [
        "X-OR GATE"
      ],
      "metadata": {
        "id": "XjidoPGCOyMD"
      }
    },
    {
      "cell_type": "code",
      "source": [
        "def xor_gate(input1, input2):\n",
        "    and1_result = mcculloch_pitts_neuron([input1, input2], [1, 1], 1.5)\n",
        "    and2_result = mcculloch_pitts_neuron([input1, input2], [-1, -1], -0.5)\n",
        "    or_result = mcculloch_pitts_neuron([and1_result, and2_result], [1, 1], 1.5)\n",
        "\n",
        "    return pd.Series([input1, input2, and1_result, and2_result, or_result], index=['x1', 'x2', 'and1', 'and2', 'y'])"
      ],
      "metadata": {
        "id": "GbZjFAIjRcom"
      },
      "execution_count": 57,
      "outputs": []
    },
    {
      "cell_type": "code",
      "source": [
        "table_xor_gate = pd.DataFrame(columns=['x1', 'x2', 'and1', 'and2', 'y'])\n",
        "for input1 in [0, 1]:\n",
        "    for input2 in [0, 1]:\n",
        "        table_xor_gate = table_xor_gate.append(xor_gate(input1, input2), ignore_index=True)"
      ],
      "metadata": {
        "colab": {
          "base_uri": "https://localhost:8080/"
        },
        "id": "6jDZP8IzagOq",
        "outputId": "88bffeb1-11df-4a71-d2ea-e95aa73fd833"
      },
      "execution_count": 58,
      "outputs": [
        {
          "output_type": "stream",
          "name": "stderr",
          "text": [
            "<ipython-input-58-49964c9577b2>:4: FutureWarning: The frame.append method is deprecated and will be removed from pandas in a future version. Use pandas.concat instead.\n",
            "  table_xor_gate = table_xor_gate.append(xor_gate(input1, input2), ignore_index=True)\n",
            "<ipython-input-58-49964c9577b2>:4: FutureWarning: The frame.append method is deprecated and will be removed from pandas in a future version. Use pandas.concat instead.\n",
            "  table_xor_gate = table_xor_gate.append(xor_gate(input1, input2), ignore_index=True)\n",
            "<ipython-input-58-49964c9577b2>:4: FutureWarning: The frame.append method is deprecated and will be removed from pandas in a future version. Use pandas.concat instead.\n",
            "  table_xor_gate = table_xor_gate.append(xor_gate(input1, input2), ignore_index=True)\n",
            "<ipython-input-58-49964c9577b2>:4: FutureWarning: The frame.append method is deprecated and will be removed from pandas in a future version. Use pandas.concat instead.\n",
            "  table_xor_gate = table_xor_gate.append(xor_gate(input1, input2), ignore_index=True)\n"
          ]
        }
      ]
    },
    {
      "cell_type": "code",
      "source": [
        "print(\"Table for XOR Gate:\")\n",
        "print(table_xor_gate)"
      ],
      "metadata": {
        "colab": {
          "base_uri": "https://localhost:8080/"
        },
        "id": "98BvuMexal87",
        "outputId": "96cd44ef-e4ed-4b01-b21c-7da6bd118e5d"
      },
      "execution_count": 59,
      "outputs": [
        {
          "output_type": "stream",
          "name": "stdout",
          "text": [
            "Table for XOR Gate:\n",
            "  x1 x2 and1 and2  y\n",
            "0  0  0    0    1  0\n",
            "1  0  1    0    0  0\n",
            "2  1  0    0    0  0\n",
            "3  1  1    1    0  0\n"
          ]
        }
      ]
    },
    {
      "cell_type": "markdown",
      "source": [
        "NOT GATE"
      ],
      "metadata": {
        "id": "VKN2Ppw1RF37"
      }
    },
    {
      "cell_type": "code",
      "source": [
        "def not_gate(input1):\n",
        "    inputs = np.array([input1])\n",
        "    weights = np.array([-1])\n",
        "    threshold = 0\n",
        "    yin = mcculloch_pitts_neuron(inputs, weights, threshold)\n",
        "    y = 1 - yin\n",
        "\n",
        "    return pd.Series([input1, 0, yin, y], index=['x1', 'x2', 'yin', 'y'])"
      ],
      "metadata": {
        "id": "TyUJtxVBOwwT"
      },
      "execution_count": 60,
      "outputs": []
    },
    {
      "cell_type": "code",
      "source": [
        "table_not_gate = pd.DataFrame(columns=['x1', 'x2', 'yin', 'y'])\n",
        "table_not_gate = table_not_gate.append(not_gate(0), ignore_index=True)\n",
        "table_not_gate = table_not_gate.append(not_gate(1), ignore_index=True)"
      ],
      "metadata": {
        "colab": {
          "base_uri": "https://localhost:8080/"
        },
        "id": "9BNuXCyvazA9",
        "outputId": "922229d1-489c-453b-f980-e64bdd126b13"
      },
      "execution_count": 61,
      "outputs": [
        {
          "output_type": "stream",
          "name": "stderr",
          "text": [
            "<ipython-input-61-e3806001f9aa>:2: FutureWarning: The frame.append method is deprecated and will be removed from pandas in a future version. Use pandas.concat instead.\n",
            "  table_not_gate = table_not_gate.append(not_gate(0), ignore_index=True)\n",
            "<ipython-input-61-e3806001f9aa>:3: FutureWarning: The frame.append method is deprecated and will be removed from pandas in a future version. Use pandas.concat instead.\n",
            "  table_not_gate = table_not_gate.append(not_gate(1), ignore_index=True)\n"
          ]
        }
      ]
    },
    {
      "cell_type": "code",
      "source": [
        "print(\"Table for NOT Gate:\")\n",
        "print(table_not_gate)"
      ],
      "metadata": {
        "colab": {
          "base_uri": "https://localhost:8080/"
        },
        "id": "vM7f4yQSa5ON",
        "outputId": "dda46ff0-c121-4b8f-da95-266c07bc6874"
      },
      "execution_count": 62,
      "outputs": [
        {
          "output_type": "stream",
          "name": "stdout",
          "text": [
            "Table for NOT Gate:\n",
            "  x1 x2 yin  y\n",
            "0  0  0   1  0\n",
            "1  1  0   0  1\n"
          ]
        }
      ]
    }
  ]
}